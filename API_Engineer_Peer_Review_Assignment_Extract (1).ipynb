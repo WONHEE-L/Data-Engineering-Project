{
 "cells": [
  {
   "cell_type": "markdown",
   "metadata": {},
   "source": [
    "<p style=\"text-align:center\">\n",
    "    <a href=\"https://skills.network/?utm_medium=Exinfluencer&utm_source=Exinfluencer&utm_content=000026UJ&utm_term=10006555&utm_id=NA-SkillsNetwork-Channel-SkillsNetworkCoursesIBMDeveloperSkillsNetworkPY0221ENSkillsNetwork23455645-2022-01-01\" target=\"_blank\">\n",
    "    <img src=\"https://cf-courses-data.s3.us.cloud-object-storage.appdomain.cloud/assets/logos/SN_web_lightmode.png\" width=\"200\" alt=\"Skills Network Logo\"  />\n",
    "    </a>\n",
    "</p>\n"
   ]
  },
  {
   "cell_type": "markdown",
   "metadata": {},
   "source": [
    "# Peer Review Assignment - Data Engineer - Extract API Data\n"
   ]
  },
  {
   "cell_type": "markdown",
   "metadata": {},
   "source": [
    "Estimated time needed: **20** minutes\n"
   ]
  },
  {
   "cell_type": "markdown",
   "metadata": {},
   "source": [
    "## Objectives\n",
    "\n",
    "In this part you will:\n",
    "\n",
    "*   Collect exchange rate data using an API\n",
    "*   Store the data as a CSV\n"
   ]
  },
  {
   "cell_type": "markdown",
   "metadata": {},
   "source": [
    "For this lab, we are going to be using Python and several Python libraries. Some of these libraries might be installed in your lab environment or in SN Labs. Others may need to be installed by you. The cells below will install these libraries when executed.\n"
   ]
  },
  {
   "cell_type": "code",
   "execution_count": 61,
   "metadata": {
    "collapsed": true,
    "jupyter": {
     "outputs_hidden": true
    },
    "tags": []
   },
   "outputs": [
    {
     "name": "stdout",
     "output_type": "stream",
     "text": [
      "\n",
      "                  __    __    __    __\n",
      "                 /  \\  /  \\  /  \\  /  \\\n",
      "                /    \\/    \\/    \\/    \\\n",
      "███████████████/  /██/  /██/  /██/  /████████████████████████\n",
      "              /  / \\   / \\   / \\   / \\  \\____\n",
      "             /  /   \\_/   \\_/   \\_/   \\    o \\__,\n",
      "            / _/                       \\_____/  `\n",
      "            |/\n",
      "        ███╗   ███╗ █████╗ ███╗   ███╗██████╗  █████╗\n",
      "        ████╗ ████║██╔══██╗████╗ ████║██╔══██╗██╔══██╗\n",
      "        ██╔████╔██║███████║██╔████╔██║██████╔╝███████║\n",
      "        ██║╚██╔╝██║██╔══██║██║╚██╔╝██║██╔══██╗██╔══██║\n",
      "        ██║ ╚═╝ ██║██║  ██║██║ ╚═╝ ██║██████╔╝██║  ██║\n",
      "        ╚═╝     ╚═╝╚═╝  ╚═╝╚═╝     ╚═╝╚═════╝ ╚═╝  ╚═╝\n",
      "\n",
      "        mamba (0.15.3) supported by @QuantStack\n",
      "\n",
      "        GitHub:  https://github.com/mamba-org/mamba\n",
      "        Twitter: https://twitter.com/QuantStack\n",
      "\n",
      "█████████████████████████████████████████████████████████████\n",
      "\n",
      "\n",
      "Looking for: ['pandas==1.3.3']\n",
      "\n",
      "pkgs/main/linux-64       [>                   ] (--:--) No change\n",
      "pkgs/main/linux-64       [====================] (00m:00s) No change\n",
      "pkgs/r/noarch            [>                   ] (--:--) No change\n",
      "pkgs/r/noarch            [====================] (00m:00s) No change\n",
      "pkgs/r/linux-64          [>                   ] (--:--) No change\n",
      "pkgs/r/linux-64          [====================] (00m:00s) No change\n",
      "pkgs/main/noarch         [>                   ] (--:--) No change\n",
      "pkgs/main/noarch         [====================] (00m:00s) No change\n",
      "\n",
      "Pinned packages:\n",
      "  - python 3.7.*\n",
      "\n",
      "\n",
      "Transaction\n",
      "\n",
      "  Prefix: /home/jupyterlab/conda/envs/python\n",
      "\n",
      "  All requested packages already installed\n",
      "\n",
      "\n",
      "                  __    __    __    __\n",
      "                 /  \\  /  \\  /  \\  /  \\\n",
      "                /    \\/    \\/    \\/    \\\n",
      "███████████████/  /██/  /██/  /██/  /████████████████████████\n",
      "              /  / \\   / \\   / \\   / \\  \\____\n",
      "             /  /   \\_/   \\_/   \\_/   \\    o \\__,\n",
      "            / _/                       \\_____/  `\n",
      "            |/\n",
      "        ███╗   ███╗ █████╗ ███╗   ███╗██████╗  █████╗\n",
      "        ████╗ ████║██╔══██╗████╗ ████║██╔══██╗██╔══██╗\n",
      "        ██╔████╔██║███████║██╔████╔██║██████╔╝███████║\n",
      "        ██║╚██╔╝██║██╔══██║██║╚██╔╝██║██╔══██╗██╔══██║\n",
      "        ██║ ╚═╝ ██║██║  ██║██║ ╚═╝ ██║██████╔╝██║  ██║\n",
      "        ╚═╝     ╚═╝╚═╝  ╚═╝╚═╝     ╚═╝╚═════╝ ╚═╝  ╚═╝\n",
      "\n",
      "        mamba (0.15.3) supported by @QuantStack\n",
      "\n",
      "        GitHub:  https://github.com/mamba-org/mamba\n",
      "        Twitter: https://twitter.com/QuantStack\n",
      "\n",
      "█████████████████████████████████████████████████████████████\n",
      "\n",
      "\n",
      "Looking for: ['requests==2.26.0']\n",
      "\n",
      "pkgs/main/linux-64       Using cache\n",
      "pkgs/main/noarch         Using cache\n",
      "pkgs/r/linux-64          Using cache\n",
      "pkgs/r/noarch            Using cache\n",
      "\n",
      "Pinned packages:\n",
      "  - python 3.7.*\n",
      "\n",
      "\n",
      "Transaction\n",
      "\n",
      "  Prefix: /home/jupyterlab/conda/envs/python\n",
      "\n",
      "  All requested packages already installed\n",
      "\n"
     ]
    }
   ],
   "source": [
    "!mamba install pandas==1.3.3 -y\n",
    "!mamba install requests==2.26.0 -y"
   ]
  },
  {
   "cell_type": "markdown",
   "metadata": {},
   "source": [
    "## Imports\n",
    "\n",
    "Import any additional libraries you may need here.\n"
   ]
  },
  {
   "cell_type": "code",
   "execution_count": 63,
   "metadata": {},
   "outputs": [],
   "source": [
    "import requests\n",
    "import pandas as pd\n",
    "import numpy as np\n",
    "import json\n",
    "import base64\n",
    "from requests.auth import HTTPBasicAuth"
   ]
  },
  {
   "cell_type": "markdown",
   "metadata": {},
   "source": [
    "## Extract Data Using an API\n"
   ]
  },
  {
   "cell_type": "markdown",
   "metadata": {},
   "source": [
    "Using ExchangeRate-API we will extract currency exchange rate data. Use the below steps to get the access key and to get the data.\n",
    "\n",
    "1.  Open the url : [https://exchangeratesapi.io/](https://exchangeratesapi.io/?utm_medium=Exinfluencer&utm_source=Exinfluencer&utm_content=000026UJ&utm_term=10006555&utm_id=NA-SkillsNetwork-Channel-SkillsNetworkCoursesIBMDeveloperSkillsNetworkPY0221ENSkillsNetwork23455645-2022-01-01) and click on **Get Free API Key**.\n",
    "2.  Subscribe for Free plan and Sign-in with the Google Account.\n",
    "3.  Once the account is created you will be redirected to [https://apilayer.com](https://apilayer.com/?utm_medium=Exinfluencer&utm_source=Exinfluencer&utm_content=000026UJ&utm_term=10006555&utm_id=NA-SkillsNetwork-Channel-SkillsNetworkCoursesIBMDeveloperSkillsNetworkPY0221ENSkillsNetwork23455645-2022-01-01) website.\n",
    "4.  Now, click on the **user icon** and click **Account** as shown below:\n",
    "\n",
    "<img src=\"https://cf-courses-data.s3.us.cloud-object-storage.appdomain.cloud/IBMDeveloperSkillsNetwork-PY0221EN-SkillsNetwork/labs/module%206/Final%20Assignment/Images/account.png\"/>\n",
    "\n",
    "3.  Scroll down and you will get the API Key section. Copy the API key and use in the url in Question 1.\n"
   ]
  },
  {
   "cell_type": "markdown",
   "metadata": {},
   "source": [
    "### Call the API\n",
    "\n",
    "<b> Question 1</b> Using the `requests` library call the endpoint given above and save the text, remember the first few characters of the output:\n"
   ]
  },
  {
   "cell_type": "code",
   "execution_count": 64,
   "metadata": {},
   "outputs": [],
   "source": [
    "# Write your code here\n",
    "url = \"https://api.apilayer.com/exchangerates_data/latest?base=EUR&apikey=6UxEVupSNpLQ1MmXPsOsE3POWasDHkKg\" #Make sure to change ******* to your API key."
   ]
  },
  {
   "cell_type": "code",
   "execution_count": 65,
   "metadata": {},
   "outputs": [],
   "source": [
    "response=requests.get(url)"
   ]
  },
  {
   "cell_type": "code",
   "execution_count": 66,
   "metadata": {},
   "outputs": [
    {
     "data": {
      "text/plain": [
       "{'User-Agent': 'python-requests/2.26.0', 'Accept-Encoding': 'gzip, deflate, br', 'Accept': '*/*', 'Connection': 'keep-alive'}"
      ]
     },
     "execution_count": 66,
     "metadata": {},
     "output_type": "execute_result"
    }
   ],
   "source": [
    "response.request.headers"
   ]
  },
  {
   "cell_type": "code",
   "execution_count": 67,
   "metadata": {},
   "outputs": [
    {
     "data": {
      "text/plain": [
       "{'Date': 'Sun, 30 Apr 2023 15:54:00 GMT', 'Content-Type': 'application/json', 'Transfer-Encoding': 'chunked', 'Connection': 'keep-alive', 'CF-Ray': '7c00f5f70f46573a-IAD', 'Access-Control-Allow-Origin': '*', 'CF-Cache-Status': 'DYNAMIC', 'cf-apo-via': 'origin,host', 'RateLimit-Limit': '250', 'RateLimit-Remaining': '248', 'RateLimit-Reset': '29160', 'X-Cloud-Trace-Context': '0a9abd50bbaa8f5e248b805a21e1af3d', 'X-RateLimit-Limit-Day': '250', 'X-RateLimit-Limit-Month': '250', 'X-RateLimit-Remaining-Day': '248', 'X-RateLimit-Remaining-Month': '248', 'Report-To': '{\"endpoints\":[{\"url\":\"https:\\\\/\\\\/a.nel.cloudflare.com\\\\/report\\\\/v3?s=i2YtNZqAwkDbgHrI%2Fp2DAtQ%2FEyebgQEpSvCNVpb%2BtcNRwyWKN3%2BUO66a60m5ubdYRxd8Rj2g4XluCUvJzbIAlAFydZnXApXtS2wJ1NwSpdv7GfpqBCZUls4jJZ%2F05%2FLrW3w%3D\"}],\"group\":\"cf-nel\",\"max_age\":604800}', 'NEL': '{\"success_fraction\":0,\"report_to\":\"cf-nel\",\"max_age\":604800}', 'Vary': 'Accept-Encoding', 'Server': 'cloudflare', 'Content-Encoding': 'br', 'alt-svc': 'h3=\":443\"; ma=86400, h3-29=\":443\"; ma=86400'}"
      ]
     },
     "execution_count": 67,
     "metadata": {},
     "output_type": "execute_result"
    }
   ],
   "source": [
    "header=response.headers\n",
    "header"
   ]
  },
  {
   "cell_type": "code",
   "execution_count": 68,
   "metadata": {},
   "outputs": [
    {
     "data": {
      "text/plain": [
       "'{\\n    \"success\": true,\\n    \"timestamp\": 1682869983,\\n    \"base\": \"EUR\",\\n    \"date\": \"2023-04-30\",\\n    \"rates\": {\\n        \"AED\": 4.086222,\\n        \"AFN\"'"
      ]
     },
     "execution_count": 68,
     "metadata": {},
     "output_type": "execute_result"
    }
   ],
   "source": [
    "response.text[0:150]"
   ]
  },
  {
   "cell_type": "code",
   "execution_count": 69,
   "metadata": {
    "collapsed": true,
    "jupyter": {
     "outputs_hidden": true
    },
    "tags": []
   },
   "outputs": [
    {
     "data": {
      "text/plain": [
       "{'success': True,\n",
       " 'timestamp': 1682869983,\n",
       " 'base': 'EUR',\n",
       " 'date': '2023-04-30',\n",
       " 'rates': {'AED': 4.086222,\n",
       "  'AFN': 94.791316,\n",
       "  'ALL': 111.116376,\n",
       "  'AMD': 426.970797,\n",
       "  'ANG': 1.979001,\n",
       "  'AOA': 566.93185,\n",
       "  'ARS': 243.78203,\n",
       "  'AUD': 1.683888,\n",
       "  'AWG': 2.002884,\n",
       "  'AZN': 1.89603,\n",
       "  'BAM': 1.955208,\n",
       "  'BBD': 2.217129,\n",
       "  'BDT': 116.564727,\n",
       "  'BGN': 1.97446,\n",
       "  'BHD': 0.413975,\n",
       "  'BIF': 2286.907971,\n",
       "  'BMD': 1.112713,\n",
       "  'BND': 1.468156,\n",
       "  'BOB': 7.688346,\n",
       "  'BRL': 5.548883,\n",
       "  'BSD': 1.098068,\n",
       "  'BTC': 3.7412652e-05,\n",
       "  'BTN': 89.825818,\n",
       "  'BWP': 14.543599,\n",
       "  'BYN': 2.771661,\n",
       "  'BYR': 21809.180445,\n",
       "  'BZD': 2.21333,\n",
       "  'CAD': 1.519132,\n",
       "  'CDF': 2378.981412,\n",
       "  'CHF': 0.995243,\n",
       "  'CLF': 0.03197,\n",
       "  'CLP': 882.14306,\n",
       "  'CNY': 7.691301,\n",
       "  'COP': 5229.585547,\n",
       "  'CRC': 592.320761,\n",
       "  'CUC': 1.112713,\n",
       "  'CUP': 29.486902,\n",
       "  'CVE': 111.799913,\n",
       "  'CZK': 23.762998,\n",
       "  'DJF': 195.510838,\n",
       "  'DKK': 7.528178,\n",
       "  'DOP': 60.041831,\n",
       "  'DZD': 149.258834,\n",
       "  'EGP': 34.047697,\n",
       "  'ERN': 16.690699,\n",
       "  'ETB': 59.479201,\n",
       "  'EUR': 1,\n",
       "  'FJD': 2.472728,\n",
       "  'FKP': 0.88534,\n",
       "  'GBP': 0.884897,\n",
       "  'GEL': 2.771091,\n",
       "  'GGP': 0.88534,\n",
       "  'GHS': 13.13431,\n",
       "  'GIP': 0.88534,\n",
       "  'GMD': 66.707595,\n",
       "  'GNF': 9440.14337,\n",
       "  'GTQ': 8.570407,\n",
       "  'GYD': 235.3201,\n",
       "  'HKD': 8.734744,\n",
       "  'HNL': 26.996831,\n",
       "  'HRK': 7.584402,\n",
       "  'HTG': 169.09883,\n",
       "  'HUF': 376.854168,\n",
       "  'IDR': 16327.454067,\n",
       "  'ILS': 4.046138,\n",
       "  'IMP': 0.88534,\n",
       "  'INR': 90.959309,\n",
       "  'IQD': 1438.464714,\n",
       "  'IRR': 47012.13681,\n",
       "  'ISK': 151.08464,\n",
       "  'JEP': 0.88534,\n",
       "  'JMD': 168.149117,\n",
       "  'JOD': 0.789363,\n",
       "  'JPY': 151.687345,\n",
       "  'KES': 147.365407,\n",
       "  'KGS': 97.385095,\n",
       "  'KHR': 4518.632642,\n",
       "  'KMF': 497.076887,\n",
       "  'KPW': 1001.441959,\n",
       "  'KRW': 1488.98884,\n",
       "  'KWD': 0.341051,\n",
       "  'KYD': 0.915123,\n",
       "  'KZT': 496.169857,\n",
       "  'LAK': 18966.260725,\n",
       "  'LBP': 16482.012469,\n",
       "  'LKR': 351.843531,\n",
       "  'LRD': 183.876296,\n",
       "  'LSL': 20.36685,\n",
       "  'LTL': 3.285553,\n",
       "  'LVL': 0.67307,\n",
       "  'LYD': 5.230417,\n",
       "  'MAD': 11.020065,\n",
       "  'MDL': 19.727031,\n",
       "  'MGA': 4827.539165,\n",
       "  'MKD': 61.591362,\n",
       "  'MMK': 2305.902224,\n",
       "  'MNT': 3873.645362,\n",
       "  'MOP': 8.878713,\n",
       "  'MRO': 397.238452,\n",
       "  'MUR': 50.016884,\n",
       "  'MVR': 17.091697,\n",
       "  'MWK': 1127.058947,\n",
       "  'MXN': 20.0294,\n",
       "  'MYR': 4.963262,\n",
       "  'MZN': 70.379535,\n",
       "  'NAD': 20.366803,\n",
       "  'NGN': 513.521329,\n",
       "  'NIO': 40.157848,\n",
       "  'NOK': 11.878843,\n",
       "  'NPR': 143.721509,\n",
       "  'NZD': 1.798906,\n",
       "  'OMR': 0.428417,\n",
       "  'PAB': 1.112642,\n",
       "  'PEN': 4.089363,\n",
       "  'PGK': 3.870829,\n",
       "  'PHP': 61.73375,\n",
       "  'PKR': 311.521832,\n",
       "  'PLN': 4.631698,\n",
       "  'PYG': 7956.5923,\n",
       "  'QAR': 4.051432,\n",
       "  'RON': 4.978506,\n",
       "  'RSD': 117.277511,\n",
       "  'RUB': 89.518199,\n",
       "  'RWF': 1233.926608,\n",
       "  'SAR': 4.173496,\n",
       "  'SBD': 9.274472,\n",
       "  'SCR': 15.545019,\n",
       "  'SDG': 667.075709,\n",
       "  'SEK': 11.419558,\n",
       "  'SGD': 1.485922,\n",
       "  'SHP': 1.353894,\n",
       "  'SLE': 24.746751,\n",
       "  'SLL': 21976.087814,\n",
       "  'SOS': 632.581582,\n",
       "  'SRD': 41.508281,\n",
       "  'STD': 23030.918502,\n",
       "  'SVC': 9.608093,\n",
       "  'SYP': 2795.72707,\n",
       "  'SZL': 20.209884,\n",
       "  'THB': 37.993637,\n",
       "  'TJS': 11.99637,\n",
       "  'TMT': 3.894497,\n",
       "  'TND': 3.371931,\n",
       "  'TOP': 2.629791,\n",
       "  'TRY': 21.6425,\n",
       "  'TTD': 7.461742,\n",
       "  'TWD': 34.227844,\n",
       "  'TZS': 2580.419154,\n",
       "  'UAH': 40.539932,\n",
       "  'UGX': 4156.201463,\n",
       "  'USD': 1.112713,\n",
       "  'UYU': 42.527131,\n",
       "  'UZS': 12507.215261,\n",
       "  'VEF': 2745492.188929,\n",
       "  'VES': 27.485756,\n",
       "  'VND': 26109.817303,\n",
       "  'VUV': 131.855102,\n",
       "  'WST': 2.988751,\n",
       "  'XAF': 655.801552,\n",
       "  'XAG': 0.044422,\n",
       "  'XAU': 0.000559,\n",
       "  'XCD': 3.007164,\n",
       "  'XDR': 0.812754,\n",
       "  'XOF': 655.801552,\n",
       "  'XPF': 120.785432,\n",
       "  'YER': 278.568176,\n",
       "  'ZAR': 20.417849,\n",
       "  'ZMK': 10015.758841,\n",
       "  'ZMW': 19.518094,\n",
       "  'ZWL': 358.293225}}"
      ]
     },
     "execution_count": 69,
     "metadata": {},
     "output_type": "execute_result"
    }
   ],
   "source": [
    "response.json()"
   ]
  },
  {
   "cell_type": "code",
   "execution_count": 70,
   "metadata": {
    "collapsed": true,
    "jupyter": {
     "outputs_hidden": true
    },
    "tags": []
   },
   "outputs": [
    {
     "data": {
      "text/plain": [
       "{'AED': 4.086222,\n",
       " 'AFN': 94.791316,\n",
       " 'ALL': 111.116376,\n",
       " 'AMD': 426.970797,\n",
       " 'ANG': 1.979001,\n",
       " 'AOA': 566.93185,\n",
       " 'ARS': 243.78203,\n",
       " 'AUD': 1.683888,\n",
       " 'AWG': 2.002884,\n",
       " 'AZN': 1.89603,\n",
       " 'BAM': 1.955208,\n",
       " 'BBD': 2.217129,\n",
       " 'BDT': 116.564727,\n",
       " 'BGN': 1.97446,\n",
       " 'BHD': 0.413975,\n",
       " 'BIF': 2286.907971,\n",
       " 'BMD': 1.112713,\n",
       " 'BND': 1.468156,\n",
       " 'BOB': 7.688346,\n",
       " 'BRL': 5.548883,\n",
       " 'BSD': 1.098068,\n",
       " 'BTC': 3.7412652e-05,\n",
       " 'BTN': 89.825818,\n",
       " 'BWP': 14.543599,\n",
       " 'BYN': 2.771661,\n",
       " 'BYR': 21809.180445,\n",
       " 'BZD': 2.21333,\n",
       " 'CAD': 1.519132,\n",
       " 'CDF': 2378.981412,\n",
       " 'CHF': 0.995243,\n",
       " 'CLF': 0.03197,\n",
       " 'CLP': 882.14306,\n",
       " 'CNY': 7.691301,\n",
       " 'COP': 5229.585547,\n",
       " 'CRC': 592.320761,\n",
       " 'CUC': 1.112713,\n",
       " 'CUP': 29.486902,\n",
       " 'CVE': 111.799913,\n",
       " 'CZK': 23.762998,\n",
       " 'DJF': 195.510838,\n",
       " 'DKK': 7.528178,\n",
       " 'DOP': 60.041831,\n",
       " 'DZD': 149.258834,\n",
       " 'EGP': 34.047697,\n",
       " 'ERN': 16.690699,\n",
       " 'ETB': 59.479201,\n",
       " 'EUR': 1,\n",
       " 'FJD': 2.472728,\n",
       " 'FKP': 0.88534,\n",
       " 'GBP': 0.884897,\n",
       " 'GEL': 2.771091,\n",
       " 'GGP': 0.88534,\n",
       " 'GHS': 13.13431,\n",
       " 'GIP': 0.88534,\n",
       " 'GMD': 66.707595,\n",
       " 'GNF': 9440.14337,\n",
       " 'GTQ': 8.570407,\n",
       " 'GYD': 235.3201,\n",
       " 'HKD': 8.734744,\n",
       " 'HNL': 26.996831,\n",
       " 'HRK': 7.584402,\n",
       " 'HTG': 169.09883,\n",
       " 'HUF': 376.854168,\n",
       " 'IDR': 16327.454067,\n",
       " 'ILS': 4.046138,\n",
       " 'IMP': 0.88534,\n",
       " 'INR': 90.959309,\n",
       " 'IQD': 1438.464714,\n",
       " 'IRR': 47012.13681,\n",
       " 'ISK': 151.08464,\n",
       " 'JEP': 0.88534,\n",
       " 'JMD': 168.149117,\n",
       " 'JOD': 0.789363,\n",
       " 'JPY': 151.687345,\n",
       " 'KES': 147.365407,\n",
       " 'KGS': 97.385095,\n",
       " 'KHR': 4518.632642,\n",
       " 'KMF': 497.076887,\n",
       " 'KPW': 1001.441959,\n",
       " 'KRW': 1488.98884,\n",
       " 'KWD': 0.341051,\n",
       " 'KYD': 0.915123,\n",
       " 'KZT': 496.169857,\n",
       " 'LAK': 18966.260725,\n",
       " 'LBP': 16482.012469,\n",
       " 'LKR': 351.843531,\n",
       " 'LRD': 183.876296,\n",
       " 'LSL': 20.36685,\n",
       " 'LTL': 3.285553,\n",
       " 'LVL': 0.67307,\n",
       " 'LYD': 5.230417,\n",
       " 'MAD': 11.020065,\n",
       " 'MDL': 19.727031,\n",
       " 'MGA': 4827.539165,\n",
       " 'MKD': 61.591362,\n",
       " 'MMK': 2305.902224,\n",
       " 'MNT': 3873.645362,\n",
       " 'MOP': 8.878713,\n",
       " 'MRO': 397.238452,\n",
       " 'MUR': 50.016884,\n",
       " 'MVR': 17.091697,\n",
       " 'MWK': 1127.058947,\n",
       " 'MXN': 20.0294,\n",
       " 'MYR': 4.963262,\n",
       " 'MZN': 70.379535,\n",
       " 'NAD': 20.366803,\n",
       " 'NGN': 513.521329,\n",
       " 'NIO': 40.157848,\n",
       " 'NOK': 11.878843,\n",
       " 'NPR': 143.721509,\n",
       " 'NZD': 1.798906,\n",
       " 'OMR': 0.428417,\n",
       " 'PAB': 1.112642,\n",
       " 'PEN': 4.089363,\n",
       " 'PGK': 3.870829,\n",
       " 'PHP': 61.73375,\n",
       " 'PKR': 311.521832,\n",
       " 'PLN': 4.631698,\n",
       " 'PYG': 7956.5923,\n",
       " 'QAR': 4.051432,\n",
       " 'RON': 4.978506,\n",
       " 'RSD': 117.277511,\n",
       " 'RUB': 89.518199,\n",
       " 'RWF': 1233.926608,\n",
       " 'SAR': 4.173496,\n",
       " 'SBD': 9.274472,\n",
       " 'SCR': 15.545019,\n",
       " 'SDG': 667.075709,\n",
       " 'SEK': 11.419558,\n",
       " 'SGD': 1.485922,\n",
       " 'SHP': 1.353894,\n",
       " 'SLE': 24.746751,\n",
       " 'SLL': 21976.087814,\n",
       " 'SOS': 632.581582,\n",
       " 'SRD': 41.508281,\n",
       " 'STD': 23030.918502,\n",
       " 'SVC': 9.608093,\n",
       " 'SYP': 2795.72707,\n",
       " 'SZL': 20.209884,\n",
       " 'THB': 37.993637,\n",
       " 'TJS': 11.99637,\n",
       " 'TMT': 3.894497,\n",
       " 'TND': 3.371931,\n",
       " 'TOP': 2.629791,\n",
       " 'TRY': 21.6425,\n",
       " 'TTD': 7.461742,\n",
       " 'TWD': 34.227844,\n",
       " 'TZS': 2580.419154,\n",
       " 'UAH': 40.539932,\n",
       " 'UGX': 4156.201463,\n",
       " 'USD': 1.112713,\n",
       " 'UYU': 42.527131,\n",
       " 'UZS': 12507.215261,\n",
       " 'VEF': 2745492.188929,\n",
       " 'VES': 27.485756,\n",
       " 'VND': 26109.817303,\n",
       " 'VUV': 131.855102,\n",
       " 'WST': 2.988751,\n",
       " 'XAF': 655.801552,\n",
       " 'XAG': 0.044422,\n",
       " 'XAU': 0.000559,\n",
       " 'XCD': 3.007164,\n",
       " 'XDR': 0.812754,\n",
       " 'XOF': 655.801552,\n",
       " 'XPF': 120.785432,\n",
       " 'YER': 278.568176,\n",
       " 'ZAR': 20.417849,\n",
       " 'ZMK': 10015.758841,\n",
       " 'ZMW': 19.518094,\n",
       " 'ZWL': 358.293225}"
      ]
     },
     "execution_count": 70,
     "metadata": {},
     "output_type": "execute_result"
    }
   ],
   "source": [
    "response.json()['rates']"
   ]
  },
  {
   "cell_type": "markdown",
   "metadata": {},
   "source": [
    "### Save as DataFrame\n",
    "\n",
    "<b> Question 2</b>  Using the data gathered turn it into a `pandas` dataframe. The dataframe should have the Currency as the index and `Rate` as their columns. Make sure to drop unnecessary columns.\n"
   ]
  },
  {
   "cell_type": "code",
   "execution_count": 71,
   "metadata": {
    "tags": []
   },
   "outputs": [
    {
     "data": {
      "text/html": [
       "<div>\n",
       "<style scoped>\n",
       "    .dataframe tbody tr th:only-of-type {\n",
       "        vertical-align: middle;\n",
       "    }\n",
       "\n",
       "    .dataframe tbody tr th {\n",
       "        vertical-align: top;\n",
       "    }\n",
       "\n",
       "    .dataframe thead th {\n",
       "        text-align: right;\n",
       "    }\n",
       "</style>\n",
       "<table border=\"1\" class=\"dataframe\">\n",
       "  <thead>\n",
       "    <tr style=\"text-align: right;\">\n",
       "      <th></th>\n",
       "      <th>rates</th>\n",
       "    </tr>\n",
       "  </thead>\n",
       "  <tbody>\n",
       "    <tr>\n",
       "      <th>AED</th>\n",
       "      <td>4.086222</td>\n",
       "    </tr>\n",
       "    <tr>\n",
       "      <th>AFN</th>\n",
       "      <td>94.791316</td>\n",
       "    </tr>\n",
       "    <tr>\n",
       "      <th>ALL</th>\n",
       "      <td>111.116376</td>\n",
       "    </tr>\n",
       "    <tr>\n",
       "      <th>AMD</th>\n",
       "      <td>426.970797</td>\n",
       "    </tr>\n",
       "    <tr>\n",
       "      <th>ANG</th>\n",
       "      <td>1.979001</td>\n",
       "    </tr>\n",
       "    <tr>\n",
       "      <th>...</th>\n",
       "      <td>...</td>\n",
       "    </tr>\n",
       "    <tr>\n",
       "      <th>YER</th>\n",
       "      <td>278.568176</td>\n",
       "    </tr>\n",
       "    <tr>\n",
       "      <th>ZAR</th>\n",
       "      <td>20.417849</td>\n",
       "    </tr>\n",
       "    <tr>\n",
       "      <th>ZMK</th>\n",
       "      <td>10015.758841</td>\n",
       "    </tr>\n",
       "    <tr>\n",
       "      <th>ZMW</th>\n",
       "      <td>19.518094</td>\n",
       "    </tr>\n",
       "    <tr>\n",
       "      <th>ZWL</th>\n",
       "      <td>358.293225</td>\n",
       "    </tr>\n",
       "  </tbody>\n",
       "</table>\n",
       "<p>170 rows × 1 columns</p>\n",
       "</div>"
      ],
      "text/plain": [
       "            rates\n",
       "AED      4.086222\n",
       "AFN     94.791316\n",
       "ALL    111.116376\n",
       "AMD    426.970797\n",
       "ANG      1.979001\n",
       "..            ...\n",
       "YER    278.568176\n",
       "ZAR     20.417849\n",
       "ZMK  10015.758841\n",
       "ZMW     19.518094\n",
       "ZWL    358.293225\n",
       "\n",
       "[170 rows x 1 columns]"
      ]
     },
     "execution_count": 71,
     "metadata": {},
     "output_type": "execute_result"
    }
   ],
   "source": [
    "# Turn the data into a dataframe\n",
    "df = pd.DataFrame(response.json(), columns=['rates'])\n",
    "df"
   ]
  },
  {
   "cell_type": "markdown",
   "metadata": {},
   "source": [
    "### Load the Data\n",
    "\n",
    "Using the dataframe save it as a CSV names `exchange_rates_1.csv`.\n"
   ]
  },
  {
   "cell_type": "code",
   "execution_count": 72,
   "metadata": {},
   "outputs": [],
   "source": [
    "# Save the Dataframe\n",
    "df.to_csv('exchange_rates_1.csv')"
   ]
  },
  {
   "cell_type": "markdown",
   "metadata": {},
   "source": [
    "Your CSV should be in this format with more currencies\n",
    "\n",
    "|     | Rates      |\n",
    "| --- | ---------- |\n",
    "| AED | 4.398618   |\n",
    "| AFN | 92.917693  |\n",
    "| ALL | 123.099093 |\n",
    "| AMD | 621.935674 |\n",
    "| ANG | 2.149648   |\n"
   ]
  },
  {
   "cell_type": "markdown",
   "metadata": {},
   "source": [
    "## Authors\n"
   ]
  },
  {
   "cell_type": "markdown",
   "metadata": {},
   "source": [
    "Ramesh Sannareddy, Joseph Santarcangelo and Azim Hirjani\n"
   ]
  },
  {
   "cell_type": "markdown",
   "metadata": {},
   "source": [
    "### Other Contributors\n"
   ]
  },
  {
   "cell_type": "markdown",
   "metadata": {},
   "source": [
    "Rav Ahuja\n"
   ]
  },
  {
   "cell_type": "markdown",
   "metadata": {},
   "source": [
    "## Change Log\n"
   ]
  },
  {
   "cell_type": "markdown",
   "metadata": {},
   "source": [
    "| Date (YYYY-MM-DD) | Version | Changed By        | Change Description                              |\n",
    "| ----------------- | ------- | ----------------- | ----------------------------------------------- |\n",
    "| 2022-05-06        | 0.3     | Malika            | Updated instructions to get the API and the url |\n",
    "| 2021-04-15        | 0.2     | Malika            | Updated the lab from USD to EUR                 |\n",
    "| 2020-11-25        | 0.1     | Ramesh Sannareddy | Created initial version of the lab              |\n"
   ]
  },
  {
   "cell_type": "markdown",
   "metadata": {},
   "source": [
    "Copyright © 2020 IBM Corporation. This notebook and its source code are released under the terms of the [MIT License](https://cognitiveclass.ai/mit-license?utm_medium=Exinfluencer&utm_source=Exinfluencer&utm_content=000026UJ&utm_term=10006555&utm_id=NA-SkillsNetwork-Channel-SkillsNetworkCoursesIBMDeveloperSkillsNetworkPY0221ENSkillsNetwork23455645-2022-01-01&cm_mmc=Email_Newsletter-\\_-Developer_Ed%2BTech-\\_-WW_WW-\\_-SkillsNetwork-Courses-IBM-DA0321EN-SkillsNetwork-21426264&cm_mmca1=000026UJ&cm_mmca2=10006555&cm_mmca3=M12345678&cvosrc=email.Newsletter.M12345678&cvo_campaign=000026UJ).\n"
   ]
  }
 ],
 "metadata": {
  "kernelspec": {
   "display_name": "Python",
   "language": "python",
   "name": "conda-env-python-py"
  },
  "language_info": {
   "codemirror_mode": {
    "name": "ipython",
    "version": 3
   },
   "file_extension": ".py",
   "mimetype": "text/x-python",
   "name": "python",
   "nbconvert_exporter": "python",
   "pygments_lexer": "ipython3",
   "version": "3.7.12"
  }
 },
 "nbformat": 4,
 "nbformat_minor": 4
}
